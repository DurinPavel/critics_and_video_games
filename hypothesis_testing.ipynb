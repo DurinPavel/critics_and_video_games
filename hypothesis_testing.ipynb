{
  "nbformat": 4,
  "nbformat_minor": 0,
  "metadata": {
    "colab": {
      "provenance": []
    },
    "kernelspec": {
      "name": "python3",
      "display_name": "Python 3"
    },
    "language_info": {
      "name": "python"
    }
  },
  "cells": [
    {
      "cell_type": "code",
      "execution_count": 14,
      "metadata": {
        "id": "osOedGaXy7g6"
      },
      "outputs": [],
      "source": [
        "import pandas as pd\n",
        "import numpy as np\n",
        "import matplotlib.pyplot as plt\n",
        "import scipy.stats as stats\n",
        "from pylab import rcParams\n",
        "rcParams['figure.figsize'] = 11,7"
      ]
    },
    {
      "cell_type": "markdown",
      "source": [
        "##**Задание**\n",
        "\n",
        "\n",
        "---\n",
        "##**Task**\n"
      ],
      "metadata": {
        "id": "sz_4rrDKzPFs"
      }
    },
    {
      "cell_type": "markdown",
      "source": [
        "Вернемся к [набору данных о видеоиграх](https://github.com/DurinPavel/critics_and_video_games/blob/main/vgsales.csv).  \n",
        "Ответьте на следующие вопросы:  \n",
        "1. Как критики относятся к спортивным играм?  \n",
        "2. Критикам нравятся больше игры на PC или на PS4?  \n",
        "3. Критикам больше нравятся стрелялки или стратегии?\n",
        "\n",
        "Для каждого вопроса:  \n",
        "- сформулируйте нулевую и альтернативную гипотезы;  \n",
        "- выберите пороговый уровень статистической значимости;  \n",
        "- опишите полученные результаты статистического теста.\n",
        "\n",
        "\n",
        "---\n",
        "Back to the [video game dataset](https://github.com/DurinPavel/critics_and_video_games/blob/main/vgsales.csv).  \n",
        "Answer the following questions:\n",
        "1. How do critics feel about sports games?  \n",
        "2. Do critics like PC or PS4 games more?  \n",
        "3. Do critics like shooting games or strategies more?\n",
        "\n",
        "For each question:  \n",
        "- formulate null and alternative hypotheses;  \n",
        "- select a threshold level of statistical significance;  \n",
        "- describe the results of the statistical test.\n"
      ],
      "metadata": {
        "id": "D00ge5c9zQ-w"
      }
    },
    {
      "cell_type": "code",
      "source": [
        "# Загрузим только интересующие нас данные и, для удобства, переименуем столбцы:\n",
        "# -----------------------------------------------------------------------------\n",
        "# We will load only the data we are interested in and, for convenience, rename\n",
        "# the columns:\n",
        "\n",
        "df = pd.read_csv('/content/drive/MyDrive/Файлы для домашних заданий/vgsales.csv',\n",
        "                 header=0,\n",
        "                 usecols=[0, 1, 3, 10, 11],\n",
        "                 names=['Название', 'Платформа', 'Жанр', 'Оценка критиков',\n",
        "                        'Количество критиков'])\n",
        "df.head()"
      ],
      "metadata": {
        "colab": {
          "base_uri": "https://localhost:8080/",
          "height": 206
        },
        "id": "i-4mE7rKzKXA",
        "outputId": "7ddc9ef0-8875-47a9-f74c-c32d9015f929"
      },
      "execution_count": 3,
      "outputs": [
        {
          "output_type": "execute_result",
          "data": {
            "text/plain": [
              "                   Название Платформа          Жанр  Оценка критиков  \\\n",
              "0                Wii Sports       Wii        Sports             76.0   \n",
              "1         Super Mario Bros.       NES      Platform              NaN   \n",
              "2            Mario Kart Wii       Wii        Racing             82.0   \n",
              "3         Wii Sports Resort       Wii        Sports             80.0   \n",
              "4  Pokemon Red/Pokemon Blue        GB  Role-Playing              NaN   \n",
              "\n",
              "   Количество критиков  \n",
              "0                 51.0  \n",
              "1                  NaN  \n",
              "2                 73.0  \n",
              "3                 73.0  \n",
              "4                  NaN  "
            ],
            "text/html": [
              "\n",
              "  <div id=\"df-11c66353-3112-4827-a6c0-b9865fd8f709\">\n",
              "    <div class=\"colab-df-container\">\n",
              "      <div>\n",
              "<style scoped>\n",
              "    .dataframe tbody tr th:only-of-type {\n",
              "        vertical-align: middle;\n",
              "    }\n",
              "\n",
              "    .dataframe tbody tr th {\n",
              "        vertical-align: top;\n",
              "    }\n",
              "\n",
              "    .dataframe thead th {\n",
              "        text-align: right;\n",
              "    }\n",
              "</style>\n",
              "<table border=\"1\" class=\"dataframe\">\n",
              "  <thead>\n",
              "    <tr style=\"text-align: right;\">\n",
              "      <th></th>\n",
              "      <th>Название</th>\n",
              "      <th>Платформа</th>\n",
              "      <th>Жанр</th>\n",
              "      <th>Оценка критиков</th>\n",
              "      <th>Количество критиков</th>\n",
              "    </tr>\n",
              "  </thead>\n",
              "  <tbody>\n",
              "    <tr>\n",
              "      <th>0</th>\n",
              "      <td>Wii Sports</td>\n",
              "      <td>Wii</td>\n",
              "      <td>Sports</td>\n",
              "      <td>76.0</td>\n",
              "      <td>51.0</td>\n",
              "    </tr>\n",
              "    <tr>\n",
              "      <th>1</th>\n",
              "      <td>Super Mario Bros.</td>\n",
              "      <td>NES</td>\n",
              "      <td>Platform</td>\n",
              "      <td>NaN</td>\n",
              "      <td>NaN</td>\n",
              "    </tr>\n",
              "    <tr>\n",
              "      <th>2</th>\n",
              "      <td>Mario Kart Wii</td>\n",
              "      <td>Wii</td>\n",
              "      <td>Racing</td>\n",
              "      <td>82.0</td>\n",
              "      <td>73.0</td>\n",
              "    </tr>\n",
              "    <tr>\n",
              "      <th>3</th>\n",
              "      <td>Wii Sports Resort</td>\n",
              "      <td>Wii</td>\n",
              "      <td>Sports</td>\n",
              "      <td>80.0</td>\n",
              "      <td>73.0</td>\n",
              "    </tr>\n",
              "    <tr>\n",
              "      <th>4</th>\n",
              "      <td>Pokemon Red/Pokemon Blue</td>\n",
              "      <td>GB</td>\n",
              "      <td>Role-Playing</td>\n",
              "      <td>NaN</td>\n",
              "      <td>NaN</td>\n",
              "    </tr>\n",
              "  </tbody>\n",
              "</table>\n",
              "</div>\n",
              "      <button class=\"colab-df-convert\" onclick=\"convertToInteractive('df-11c66353-3112-4827-a6c0-b9865fd8f709')\"\n",
              "              title=\"Convert this dataframe to an interactive table.\"\n",
              "              style=\"display:none;\">\n",
              "        \n",
              "  <svg xmlns=\"http://www.w3.org/2000/svg\" height=\"24px\"viewBox=\"0 0 24 24\"\n",
              "       width=\"24px\">\n",
              "    <path d=\"M0 0h24v24H0V0z\" fill=\"none\"/>\n",
              "    <path d=\"M18.56 5.44l.94 2.06.94-2.06 2.06-.94-2.06-.94-.94-2.06-.94 2.06-2.06.94zm-11 1L8.5 8.5l.94-2.06 2.06-.94-2.06-.94L8.5 2.5l-.94 2.06-2.06.94zm10 10l.94 2.06.94-2.06 2.06-.94-2.06-.94-.94-2.06-.94 2.06-2.06.94z\"/><path d=\"M17.41 7.96l-1.37-1.37c-.4-.4-.92-.59-1.43-.59-.52 0-1.04.2-1.43.59L10.3 9.45l-7.72 7.72c-.78.78-.78 2.05 0 2.83L4 21.41c.39.39.9.59 1.41.59.51 0 1.02-.2 1.41-.59l7.78-7.78 2.81-2.81c.8-.78.8-2.07 0-2.86zM5.41 20L4 18.59l7.72-7.72 1.47 1.35L5.41 20z\"/>\n",
              "  </svg>\n",
              "      </button>\n",
              "      \n",
              "  <style>\n",
              "    .colab-df-container {\n",
              "      display:flex;\n",
              "      flex-wrap:wrap;\n",
              "      gap: 12px;\n",
              "    }\n",
              "\n",
              "    .colab-df-convert {\n",
              "      background-color: #E8F0FE;\n",
              "      border: none;\n",
              "      border-radius: 50%;\n",
              "      cursor: pointer;\n",
              "      display: none;\n",
              "      fill: #1967D2;\n",
              "      height: 32px;\n",
              "      padding: 0 0 0 0;\n",
              "      width: 32px;\n",
              "    }\n",
              "\n",
              "    .colab-df-convert:hover {\n",
              "      background-color: #E2EBFA;\n",
              "      box-shadow: 0px 1px 2px rgba(60, 64, 67, 0.3), 0px 1px 3px 1px rgba(60, 64, 67, 0.15);\n",
              "      fill: #174EA6;\n",
              "    }\n",
              "\n",
              "    [theme=dark] .colab-df-convert {\n",
              "      background-color: #3B4455;\n",
              "      fill: #D2E3FC;\n",
              "    }\n",
              "\n",
              "    [theme=dark] .colab-df-convert:hover {\n",
              "      background-color: #434B5C;\n",
              "      box-shadow: 0px 1px 3px 1px rgba(0, 0, 0, 0.15);\n",
              "      filter: drop-shadow(0px 1px 2px rgba(0, 0, 0, 0.3));\n",
              "      fill: #FFFFFF;\n",
              "    }\n",
              "  </style>\n",
              "\n",
              "      <script>\n",
              "        const buttonEl =\n",
              "          document.querySelector('#df-11c66353-3112-4827-a6c0-b9865fd8f709 button.colab-df-convert');\n",
              "        buttonEl.style.display =\n",
              "          google.colab.kernel.accessAllowed ? 'block' : 'none';\n",
              "\n",
              "        async function convertToInteractive(key) {\n",
              "          const element = document.querySelector('#df-11c66353-3112-4827-a6c0-b9865fd8f709');\n",
              "          const dataTable =\n",
              "            await google.colab.kernel.invokeFunction('convertToInteractive',\n",
              "                                                     [key], {});\n",
              "          if (!dataTable) return;\n",
              "\n",
              "          const docLinkHtml = 'Like what you see? Visit the ' +\n",
              "            '<a target=\"_blank\" href=https://colab.research.google.com/notebooks/data_table.ipynb>data table notebook</a>'\n",
              "            + ' to learn more about interactive tables.';\n",
              "          element.innerHTML = '';\n",
              "          dataTable['output_type'] = 'display_data';\n",
              "          await google.colab.output.renderOutput(dataTable, element);\n",
              "          const docLink = document.createElement('div');\n",
              "          docLink.innerHTML = docLinkHtml;\n",
              "          element.appendChild(docLink);\n",
              "        }\n",
              "      </script>\n",
              "    </div>\n",
              "  </div>\n",
              "  "
            ]
          },
          "metadata": {},
          "execution_count": 3
        }
      ]
    },
    {
      "cell_type": "markdown",
      "source": [
        "###**Подготовка дадасета**\n",
        "\n",
        "\n",
        "---\n",
        "###**Preparing a dataset**\n"
      ],
      "metadata": {
        "id": "iB1lE3mr4126"
      }
    },
    {
      "cell_type": "code",
      "source": [
        "# Посмотрим на наши данные. Мы видим, что в графах \"Оценка критиков\" и\n",
        "# \"Количество критиков\" имеются пропуски:\n",
        "# ----------------------------------------------------------------------------\n",
        "# Let's look at our data. We see that in the columns \"Critics' assessment\" and\n",
        "# \"Number of critics\" there are omissions:\n",
        "\n",
        "df.info()"
      ],
      "metadata": {
        "colab": {
          "base_uri": "https://localhost:8080/"
        },
        "id": "lJDJFlyH4x08",
        "outputId": "3dec34b0-d840-4c03-9187-c6c82848538a"
      },
      "execution_count": 4,
      "outputs": [
        {
          "output_type": "stream",
          "name": "stdout",
          "text": [
            "<class 'pandas.core.frame.DataFrame'>\n",
            "RangeIndex: 16719 entries, 0 to 16718\n",
            "Data columns (total 5 columns):\n",
            " #   Column               Non-Null Count  Dtype  \n",
            "---  ------               --------------  -----  \n",
            " 0   Название             16717 non-null  object \n",
            " 1   Платформа            16719 non-null  object \n",
            " 2   Жанр                 16717 non-null  object \n",
            " 3   Оценка критиков      8137 non-null   float64\n",
            " 4   Количество критиков  8137 non-null   float64\n",
            "dtypes: float64(2), object(3)\n",
            "memory usage: 653.2+ KB\n"
          ]
        }
      ]
    },
    {
      "cell_type": "code",
      "source": [
        "# Удалим строки с пропусками, т.к. для наших целей они не имеют значения:\n",
        "# ----------------------------------------------------------------------------\n",
        "# We will delete the lines with omissions, because for our purposes they\n",
        "# do not matter:\n",
        "\n",
        "df = df.dropna()"
      ],
      "metadata": {
        "id": "rCyaBaFa5cOa"
      },
      "execution_count": 5,
      "outputs": []
    },
    {
      "cell_type": "code",
      "source": [
        "# Посмотрим, что получилось. Видим, что имеем корректный датасет:\n",
        "# ----------------------------------------------------------------------------\n",
        "# Let's see what happened. We see that we have a correct dataset:\n",
        "\n",
        "df.info()"
      ],
      "metadata": {
        "colab": {
          "base_uri": "https://localhost:8080/"
        },
        "id": "ThOGfpxO51tS",
        "outputId": "e11932f0-991a-4835-b2cc-ec60a08ca4ab"
      },
      "execution_count": 6,
      "outputs": [
        {
          "output_type": "stream",
          "name": "stdout",
          "text": [
            "<class 'pandas.core.frame.DataFrame'>\n",
            "Int64Index: 8137 entries, 0 to 16709\n",
            "Data columns (total 5 columns):\n",
            " #   Column               Non-Null Count  Dtype  \n",
            "---  ------               --------------  -----  \n",
            " 0   Название             8137 non-null   object \n",
            " 1   Платформа            8137 non-null   object \n",
            " 2   Жанр                 8137 non-null   object \n",
            " 3   Оценка критиков      8137 non-null   float64\n",
            " 4   Количество критиков  8137 non-null   float64\n",
            "dtypes: float64(2), object(3)\n",
            "memory usage: 381.4+ KB\n"
          ]
        }
      ]
    },
    {
      "cell_type": "code",
      "source": [
        "# Добавим в наш датасет графу \"Средняя оценка\":\n",
        "# ----------------------------------------------------------------------------\n",
        "# Let's add the \"Average score\" column to our dataset:\n",
        "\n",
        "df['Средняя оценка'] = (\n",
        "    (df['Оценка критиков'] / df['Количество критиков'])\n",
        "    .round(1)\n",
        "    )\n",
        "df.head()"
      ],
      "metadata": {
        "colab": {
          "base_uri": "https://localhost:8080/",
          "height": 206
        },
        "id": "FAyUARqF6I2J",
        "outputId": "3cde8b38-9985-44bc-a157-e64ec3bdc97c"
      },
      "execution_count": 7,
      "outputs": [
        {
          "output_type": "execute_result",
          "data": {
            "text/plain": [
              "                Название Платформа      Жанр  Оценка критиков  \\\n",
              "0             Wii Sports       Wii    Sports             76.0   \n",
              "2         Mario Kart Wii       Wii    Racing             82.0   \n",
              "3      Wii Sports Resort       Wii    Sports             80.0   \n",
              "6  New Super Mario Bros.        DS  Platform             89.0   \n",
              "7               Wii Play       Wii      Misc             58.0   \n",
              "\n",
              "   Количество критиков  Средняя оценка  \n",
              "0                 51.0             1.5  \n",
              "2                 73.0             1.1  \n",
              "3                 73.0             1.1  \n",
              "6                 65.0             1.4  \n",
              "7                 41.0             1.4  "
            ],
            "text/html": [
              "\n",
              "  <div id=\"df-08b8ef3b-aefe-47e9-843a-11c6a74d3e29\">\n",
              "    <div class=\"colab-df-container\">\n",
              "      <div>\n",
              "<style scoped>\n",
              "    .dataframe tbody tr th:only-of-type {\n",
              "        vertical-align: middle;\n",
              "    }\n",
              "\n",
              "    .dataframe tbody tr th {\n",
              "        vertical-align: top;\n",
              "    }\n",
              "\n",
              "    .dataframe thead th {\n",
              "        text-align: right;\n",
              "    }\n",
              "</style>\n",
              "<table border=\"1\" class=\"dataframe\">\n",
              "  <thead>\n",
              "    <tr style=\"text-align: right;\">\n",
              "      <th></th>\n",
              "      <th>Название</th>\n",
              "      <th>Платформа</th>\n",
              "      <th>Жанр</th>\n",
              "      <th>Оценка критиков</th>\n",
              "      <th>Количество критиков</th>\n",
              "      <th>Средняя оценка</th>\n",
              "    </tr>\n",
              "  </thead>\n",
              "  <tbody>\n",
              "    <tr>\n",
              "      <th>0</th>\n",
              "      <td>Wii Sports</td>\n",
              "      <td>Wii</td>\n",
              "      <td>Sports</td>\n",
              "      <td>76.0</td>\n",
              "      <td>51.0</td>\n",
              "      <td>1.5</td>\n",
              "    </tr>\n",
              "    <tr>\n",
              "      <th>2</th>\n",
              "      <td>Mario Kart Wii</td>\n",
              "      <td>Wii</td>\n",
              "      <td>Racing</td>\n",
              "      <td>82.0</td>\n",
              "      <td>73.0</td>\n",
              "      <td>1.1</td>\n",
              "    </tr>\n",
              "    <tr>\n",
              "      <th>3</th>\n",
              "      <td>Wii Sports Resort</td>\n",
              "      <td>Wii</td>\n",
              "      <td>Sports</td>\n",
              "      <td>80.0</td>\n",
              "      <td>73.0</td>\n",
              "      <td>1.1</td>\n",
              "    </tr>\n",
              "    <tr>\n",
              "      <th>6</th>\n",
              "      <td>New Super Mario Bros.</td>\n",
              "      <td>DS</td>\n",
              "      <td>Platform</td>\n",
              "      <td>89.0</td>\n",
              "      <td>65.0</td>\n",
              "      <td>1.4</td>\n",
              "    </tr>\n",
              "    <tr>\n",
              "      <th>7</th>\n",
              "      <td>Wii Play</td>\n",
              "      <td>Wii</td>\n",
              "      <td>Misc</td>\n",
              "      <td>58.0</td>\n",
              "      <td>41.0</td>\n",
              "      <td>1.4</td>\n",
              "    </tr>\n",
              "  </tbody>\n",
              "</table>\n",
              "</div>\n",
              "      <button class=\"colab-df-convert\" onclick=\"convertToInteractive('df-08b8ef3b-aefe-47e9-843a-11c6a74d3e29')\"\n",
              "              title=\"Convert this dataframe to an interactive table.\"\n",
              "              style=\"display:none;\">\n",
              "        \n",
              "  <svg xmlns=\"http://www.w3.org/2000/svg\" height=\"24px\"viewBox=\"0 0 24 24\"\n",
              "       width=\"24px\">\n",
              "    <path d=\"M0 0h24v24H0V0z\" fill=\"none\"/>\n",
              "    <path d=\"M18.56 5.44l.94 2.06.94-2.06 2.06-.94-2.06-.94-.94-2.06-.94 2.06-2.06.94zm-11 1L8.5 8.5l.94-2.06 2.06-.94-2.06-.94L8.5 2.5l-.94 2.06-2.06.94zm10 10l.94 2.06.94-2.06 2.06-.94-2.06-.94-.94-2.06-.94 2.06-2.06.94z\"/><path d=\"M17.41 7.96l-1.37-1.37c-.4-.4-.92-.59-1.43-.59-.52 0-1.04.2-1.43.59L10.3 9.45l-7.72 7.72c-.78.78-.78 2.05 0 2.83L4 21.41c.39.39.9.59 1.41.59.51 0 1.02-.2 1.41-.59l7.78-7.78 2.81-2.81c.8-.78.8-2.07 0-2.86zM5.41 20L4 18.59l7.72-7.72 1.47 1.35L5.41 20z\"/>\n",
              "  </svg>\n",
              "      </button>\n",
              "      \n",
              "  <style>\n",
              "    .colab-df-container {\n",
              "      display:flex;\n",
              "      flex-wrap:wrap;\n",
              "      gap: 12px;\n",
              "    }\n",
              "\n",
              "    .colab-df-convert {\n",
              "      background-color: #E8F0FE;\n",
              "      border: none;\n",
              "      border-radius: 50%;\n",
              "      cursor: pointer;\n",
              "      display: none;\n",
              "      fill: #1967D2;\n",
              "      height: 32px;\n",
              "      padding: 0 0 0 0;\n",
              "      width: 32px;\n",
              "    }\n",
              "\n",
              "    .colab-df-convert:hover {\n",
              "      background-color: #E2EBFA;\n",
              "      box-shadow: 0px 1px 2px rgba(60, 64, 67, 0.3), 0px 1px 3px 1px rgba(60, 64, 67, 0.15);\n",
              "      fill: #174EA6;\n",
              "    }\n",
              "\n",
              "    [theme=dark] .colab-df-convert {\n",
              "      background-color: #3B4455;\n",
              "      fill: #D2E3FC;\n",
              "    }\n",
              "\n",
              "    [theme=dark] .colab-df-convert:hover {\n",
              "      background-color: #434B5C;\n",
              "      box-shadow: 0px 1px 3px 1px rgba(0, 0, 0, 0.15);\n",
              "      filter: drop-shadow(0px 1px 2px rgba(0, 0, 0, 0.3));\n",
              "      fill: #FFFFFF;\n",
              "    }\n",
              "  </style>\n",
              "\n",
              "      <script>\n",
              "        const buttonEl =\n",
              "          document.querySelector('#df-08b8ef3b-aefe-47e9-843a-11c6a74d3e29 button.colab-df-convert');\n",
              "        buttonEl.style.display =\n",
              "          google.colab.kernel.accessAllowed ? 'block' : 'none';\n",
              "\n",
              "        async function convertToInteractive(key) {\n",
              "          const element = document.querySelector('#df-08b8ef3b-aefe-47e9-843a-11c6a74d3e29');\n",
              "          const dataTable =\n",
              "            await google.colab.kernel.invokeFunction('convertToInteractive',\n",
              "                                                     [key], {});\n",
              "          if (!dataTable) return;\n",
              "\n",
              "          const docLinkHtml = 'Like what you see? Visit the ' +\n",
              "            '<a target=\"_blank\" href=https://colab.research.google.com/notebooks/data_table.ipynb>data table notebook</a>'\n",
              "            + ' to learn more about interactive tables.';\n",
              "          element.innerHTML = '';\n",
              "          dataTable['output_type'] = 'display_data';\n",
              "          await google.colab.output.renderOutput(dataTable, element);\n",
              "          const docLink = document.createElement('div');\n",
              "          docLink.innerHTML = docLinkHtml;\n",
              "          element.appendChild(docLink);\n",
              "        }\n",
              "      </script>\n",
              "    </div>\n",
              "  </div>\n",
              "  "
            ]
          },
          "metadata": {},
          "execution_count": 7
        }
      ]
    },
    {
      "cell_type": "markdown",
      "source": [
        "###**Как критики относятся к спортивным играм?**\n",
        "\n",
        "\n",
        "---\n",
        "###**How do critics feel about sports games?**\n"
      ],
      "metadata": {
        "id": "VrqpNOpK6qk1"
      }
    },
    {
      "cell_type": "code",
      "source": [
        "# Посмотрим на среднюю оценку, выставляемую критиками спортивным играм:\n",
        "# ----------------------------------------------------------------------------\n",
        "# Let's look at the average rating given by critics to sports games:\n",
        "\n",
        "df.loc[(df['Жанр'] == 'Sports'), ['Средняя оценка']].mean().round(1)"
      ],
      "metadata": {
        "colab": {
          "base_uri": "https://localhost:8080/"
        },
        "id": "PPZ4jHM_6k9o",
        "outputId": "a44fd5f6-5101-41f3-bdd8-e139d23bc6f0"
      },
      "execution_count": 8,
      "outputs": [
        {
          "output_type": "execute_result",
          "data": {
            "text/plain": [
              "Средняя оценка    5.1\n",
              "dtype: float64"
            ]
          },
          "metadata": {},
          "execution_count": 8
        }
      ]
    },
    {
      "cell_type": "code",
      "source": [
        "# Посмотрим на среднюю оценку, выставляемую критиками по всем жанрам игр:\n",
        "# ----------------------------------------------------------------------------\n",
        "# Let's look at the average rating given by critics for all genres of games:\n",
        "\n",
        "df['Средняя оценка'].mean().round(1)"
      ],
      "metadata": {
        "colab": {
          "base_uri": "https://localhost:8080/"
        },
        "id": "-96m033N8jpl",
        "outputId": "f8d86b61-8055-47f0-fc9c-3722a3ff9d63"
      },
      "execution_count": 9,
      "outputs": [
        {
          "output_type": "execute_result",
          "data": {
            "text/plain": [
              "4.4"
            ]
          },
          "metadata": {},
          "execution_count": 9
        }
      ]
    },
    {
      "cell_type": "markdown",
      "source": [
        "**Сформулируем наши гипотезы:**  \n",
        "**H0:** среднее значение оценки, выставляемой критиками  \n",
        "спортивным играм, равно средней оценке по всем жанрам игр.  \n",
        "**H1:** среднее значение оценки, выставляемой критиками  \n",
        "спортивным играм, отличается от средней оценки по всем жанрам игр.\n",
        "\n",
        "\n",
        "---\n",
        "**Let's formulate our hypotheses:**  \n",
        "**H0:** the average score given by critics  \n",
        "to sports games is equal to the average score for all genres of games.  \n",
        "**H1:** the average score given by critics  \n",
        "to sports games differs from the average score for all genres of games.\n"
      ],
      "metadata": {
        "id": "e6Yon1Zv9Dxr"
      }
    },
    {
      "cell_type": "code",
      "source": [
        "# Проведем одновыборочный T-тест. Сравним значение средней оценки, выставляемой\n",
        "# критиками спортивным играм, со средним значением выставляемых критиками\n",
        "# оценок по всем жанрам игр.\n",
        "# Примем пороговый уровень статистической значимости равный 0.05.\n",
        "# ----------------------------------------------------------------------------\n",
        "# Let's conduct a single-sample T-test. Let's compare the value of the average\n",
        "# rating given critically acclaimed sports games, with the average value exposed\n",
        "# by critics ratings for all genres of games.\n",
        "# Let's assume a threshold level of statistical significance equal to 0.05.\n",
        "\n",
        "stat, p_value = stats.ttest_1samp(\n",
        "    (df.loc[(df['Жанр'] == 'Sports'), ['Средняя оценка']]),\n",
        "    df['Средняя оценка'].mean()\n",
        "    )\n",
        "print('Статистика = %.2f, p_value = %.3f.' % (stat, p_value))\n",
        "\n",
        "if p_value > 0.05:\n",
        "    print('Не отклоняем нулевую гипотезу. Вероятно, выставляемая критиками '\n",
        "          'средняя оценка' '\\n' 'спортивным играм, равна средней оценке по всем '\n",
        "          'жанрам игр.')\n",
        "else:\n",
        "    print('Отклоняем нулевую гипотезу. Вероятно, среднее значение оценки, '\n",
        "          'выставляемой' '\\n' 'критиками спортивным играм, отличается от '\n",
        "          'средней оценки по всем жанрам игр.')"
      ],
      "metadata": {
        "colab": {
          "base_uri": "https://localhost:8080/"
        },
        "id": "HXpDF3H39M6b",
        "outputId": "c4d9c334-aa32-4b5b-9f44-acd5867bbb67"
      },
      "execution_count": 10,
      "outputs": [
        {
          "output_type": "stream",
          "name": "stdout",
          "text": [
            "Статистика = 7.53, p_value = 0.000.\n",
            "Отклоняем нулевую гипотезу. Вероятно, среднее значение оценки, выставляемой\n",
            "критиками спортивным играм, отличается от средней оценки по всем жанрам игр.\n"
          ]
        }
      ]
    },
    {
      "cell_type": "markdown",
      "source": [
        "*Результаты теста говорят нам, что средняя оценка, выставляемая критиками спортивным  \n",
        "играм, отличается от средней оценки по всем жанрам игр. При этом показатель  \n",
        "t-статистики показывает, что средняя оценка по спортивным играм выше, чем  \n",
        "средняя оценка по всем жанрам игр.*\n",
        "\n",
        "\n",
        "---\n",
        "*The test results tell us that the average score given by critics to sports  \n",
        "games differs from the average score for all genres of games. At the same  \n",
        "time , the indicator t-statistics shows that the average score for sports  \n",
        "games is higher than the average score for all genres of games.*\n"
      ],
      "metadata": {
        "id": "xFvyFqmC9yNf"
      }
    },
    {
      "cell_type": "markdown",
      "source": [
        "###**Критикам нравятся больше игры на PC или на PS4?**\n",
        "\n",
        "\n",
        "---\n",
        "###**Do critics like PC or PS4 games more?**"
      ],
      "metadata": {
        "id": "5it1OYPm-LHD"
      }
    },
    {
      "cell_type": "code",
      "source": [
        "# Отфильтруем наш датасет по интересующим нас показателям:\n",
        "# ----------------------------------------------------------------------------\n",
        "# Let's filter our dataset by the indicators we are interested in:\n",
        "\n",
        "platform = (\n",
        "    df.loc[(df['Платформа'] == 'PC') | (df['Платформа'] == 'PS4'),\n",
        "           ['Платформа', 'Средняя оценка']]\n",
        "            )\n",
        "platform.head()"
      ],
      "metadata": {
        "colab": {
          "base_uri": "https://localhost:8080/",
          "height": 206
        },
        "id": "SFJqmyJB92pR",
        "outputId": "c495b982-ecec-4ed8-baa8-75b2fc89f0d8"
      },
      "execution_count": 11,
      "outputs": [
        {
          "output_type": "execute_result",
          "data": {
            "text/plain": [
              "   Платформа  Средняя оценка\n",
              "42       PS4             1.5\n",
              "77       PS4             2.0\n",
              "85        PC             1.1\n",
              "92       PS4             2.1\n",
              "94       PS4             2.1"
            ],
            "text/html": [
              "\n",
              "  <div id=\"df-e70ea8e4-91db-4897-90fc-e5a8356fa5b8\">\n",
              "    <div class=\"colab-df-container\">\n",
              "      <div>\n",
              "<style scoped>\n",
              "    .dataframe tbody tr th:only-of-type {\n",
              "        vertical-align: middle;\n",
              "    }\n",
              "\n",
              "    .dataframe tbody tr th {\n",
              "        vertical-align: top;\n",
              "    }\n",
              "\n",
              "    .dataframe thead th {\n",
              "        text-align: right;\n",
              "    }\n",
              "</style>\n",
              "<table border=\"1\" class=\"dataframe\">\n",
              "  <thead>\n",
              "    <tr style=\"text-align: right;\">\n",
              "      <th></th>\n",
              "      <th>Платформа</th>\n",
              "      <th>Средняя оценка</th>\n",
              "    </tr>\n",
              "  </thead>\n",
              "  <tbody>\n",
              "    <tr>\n",
              "      <th>42</th>\n",
              "      <td>PS4</td>\n",
              "      <td>1.5</td>\n",
              "    </tr>\n",
              "    <tr>\n",
              "      <th>77</th>\n",
              "      <td>PS4</td>\n",
              "      <td>2.0</td>\n",
              "    </tr>\n",
              "    <tr>\n",
              "      <th>85</th>\n",
              "      <td>PC</td>\n",
              "      <td>1.1</td>\n",
              "    </tr>\n",
              "    <tr>\n",
              "      <th>92</th>\n",
              "      <td>PS4</td>\n",
              "      <td>2.1</td>\n",
              "    </tr>\n",
              "    <tr>\n",
              "      <th>94</th>\n",
              "      <td>PS4</td>\n",
              "      <td>2.1</td>\n",
              "    </tr>\n",
              "  </tbody>\n",
              "</table>\n",
              "</div>\n",
              "      <button class=\"colab-df-convert\" onclick=\"convertToInteractive('df-e70ea8e4-91db-4897-90fc-e5a8356fa5b8')\"\n",
              "              title=\"Convert this dataframe to an interactive table.\"\n",
              "              style=\"display:none;\">\n",
              "        \n",
              "  <svg xmlns=\"http://www.w3.org/2000/svg\" height=\"24px\"viewBox=\"0 0 24 24\"\n",
              "       width=\"24px\">\n",
              "    <path d=\"M0 0h24v24H0V0z\" fill=\"none\"/>\n",
              "    <path d=\"M18.56 5.44l.94 2.06.94-2.06 2.06-.94-2.06-.94-.94-2.06-.94 2.06-2.06.94zm-11 1L8.5 8.5l.94-2.06 2.06-.94-2.06-.94L8.5 2.5l-.94 2.06-2.06.94zm10 10l.94 2.06.94-2.06 2.06-.94-2.06-.94-.94-2.06-.94 2.06-2.06.94z\"/><path d=\"M17.41 7.96l-1.37-1.37c-.4-.4-.92-.59-1.43-.59-.52 0-1.04.2-1.43.59L10.3 9.45l-7.72 7.72c-.78.78-.78 2.05 0 2.83L4 21.41c.39.39.9.59 1.41.59.51 0 1.02-.2 1.41-.59l7.78-7.78 2.81-2.81c.8-.78.8-2.07 0-2.86zM5.41 20L4 18.59l7.72-7.72 1.47 1.35L5.41 20z\"/>\n",
              "  </svg>\n",
              "      </button>\n",
              "      \n",
              "  <style>\n",
              "    .colab-df-container {\n",
              "      display:flex;\n",
              "      flex-wrap:wrap;\n",
              "      gap: 12px;\n",
              "    }\n",
              "\n",
              "    .colab-df-convert {\n",
              "      background-color: #E8F0FE;\n",
              "      border: none;\n",
              "      border-radius: 50%;\n",
              "      cursor: pointer;\n",
              "      display: none;\n",
              "      fill: #1967D2;\n",
              "      height: 32px;\n",
              "      padding: 0 0 0 0;\n",
              "      width: 32px;\n",
              "    }\n",
              "\n",
              "    .colab-df-convert:hover {\n",
              "      background-color: #E2EBFA;\n",
              "      box-shadow: 0px 1px 2px rgba(60, 64, 67, 0.3), 0px 1px 3px 1px rgba(60, 64, 67, 0.15);\n",
              "      fill: #174EA6;\n",
              "    }\n",
              "\n",
              "    [theme=dark] .colab-df-convert {\n",
              "      background-color: #3B4455;\n",
              "      fill: #D2E3FC;\n",
              "    }\n",
              "\n",
              "    [theme=dark] .colab-df-convert:hover {\n",
              "      background-color: #434B5C;\n",
              "      box-shadow: 0px 1px 3px 1px rgba(0, 0, 0, 0.15);\n",
              "      filter: drop-shadow(0px 1px 2px rgba(0, 0, 0, 0.3));\n",
              "      fill: #FFFFFF;\n",
              "    }\n",
              "  </style>\n",
              "\n",
              "      <script>\n",
              "        const buttonEl =\n",
              "          document.querySelector('#df-e70ea8e4-91db-4897-90fc-e5a8356fa5b8 button.colab-df-convert');\n",
              "        buttonEl.style.display =\n",
              "          google.colab.kernel.accessAllowed ? 'block' : 'none';\n",
              "\n",
              "        async function convertToInteractive(key) {\n",
              "          const element = document.querySelector('#df-e70ea8e4-91db-4897-90fc-e5a8356fa5b8');\n",
              "          const dataTable =\n",
              "            await google.colab.kernel.invokeFunction('convertToInteractive',\n",
              "                                                     [key], {});\n",
              "          if (!dataTable) return;\n",
              "\n",
              "          const docLinkHtml = 'Like what you see? Visit the ' +\n",
              "            '<a target=\"_blank\" href=https://colab.research.google.com/notebooks/data_table.ipynb>data table notebook</a>'\n",
              "            + ' to learn more about interactive tables.';\n",
              "          element.innerHTML = '';\n",
              "          dataTable['output_type'] = 'display_data';\n",
              "          await google.colab.output.renderOutput(dataTable, element);\n",
              "          const docLink = document.createElement('div');\n",
              "          docLink.innerHTML = docLinkHtml;\n",
              "          element.appendChild(docLink);\n",
              "        }\n",
              "      </script>\n",
              "    </div>\n",
              "  </div>\n",
              "  "
            ]
          },
          "metadata": {},
          "execution_count": 11
        }
      ]
    },
    {
      "cell_type": "code",
      "source": [
        "# Сгруппируем наши показатели по платформе и средней оценке:\n",
        "# ----------------------------------------------------------------------------\n",
        "# Let's group our indicators by platform and average rating:\n",
        "\n",
        "platform_group = (\n",
        "    platform[['Платформа', 'Средняя оценка']]\n",
        "    .groupby('Платформа').mean().round(1)\n",
        "    )\n",
        "platform_group.head()"
      ],
      "metadata": {
        "colab": {
          "base_uri": "https://localhost:8080/",
          "height": 143
        },
        "id": "6f622Zzc-kal",
        "outputId": "6c2c9507-36bd-42b8-dba2-1a7433c1f66a"
      },
      "execution_count": 12,
      "outputs": [
        {
          "output_type": "execute_result",
          "data": {
            "text/plain": [
              "           Средняя оценка\n",
              "Платформа                \n",
              "PC                    4.1\n",
              "PS4                   3.1"
            ],
            "text/html": [
              "\n",
              "  <div id=\"df-70c44e4e-ffe8-4210-808a-6f16ae4fd15f\">\n",
              "    <div class=\"colab-df-container\">\n",
              "      <div>\n",
              "<style scoped>\n",
              "    .dataframe tbody tr th:only-of-type {\n",
              "        vertical-align: middle;\n",
              "    }\n",
              "\n",
              "    .dataframe tbody tr th {\n",
              "        vertical-align: top;\n",
              "    }\n",
              "\n",
              "    .dataframe thead th {\n",
              "        text-align: right;\n",
              "    }\n",
              "</style>\n",
              "<table border=\"1\" class=\"dataframe\">\n",
              "  <thead>\n",
              "    <tr style=\"text-align: right;\">\n",
              "      <th></th>\n",
              "      <th>Средняя оценка</th>\n",
              "    </tr>\n",
              "    <tr>\n",
              "      <th>Платформа</th>\n",
              "      <th></th>\n",
              "    </tr>\n",
              "  </thead>\n",
              "  <tbody>\n",
              "    <tr>\n",
              "      <th>PC</th>\n",
              "      <td>4.1</td>\n",
              "    </tr>\n",
              "    <tr>\n",
              "      <th>PS4</th>\n",
              "      <td>3.1</td>\n",
              "    </tr>\n",
              "  </tbody>\n",
              "</table>\n",
              "</div>\n",
              "      <button class=\"colab-df-convert\" onclick=\"convertToInteractive('df-70c44e4e-ffe8-4210-808a-6f16ae4fd15f')\"\n",
              "              title=\"Convert this dataframe to an interactive table.\"\n",
              "              style=\"display:none;\">\n",
              "        \n",
              "  <svg xmlns=\"http://www.w3.org/2000/svg\" height=\"24px\"viewBox=\"0 0 24 24\"\n",
              "       width=\"24px\">\n",
              "    <path d=\"M0 0h24v24H0V0z\" fill=\"none\"/>\n",
              "    <path d=\"M18.56 5.44l.94 2.06.94-2.06 2.06-.94-2.06-.94-.94-2.06-.94 2.06-2.06.94zm-11 1L8.5 8.5l.94-2.06 2.06-.94-2.06-.94L8.5 2.5l-.94 2.06-2.06.94zm10 10l.94 2.06.94-2.06 2.06-.94-2.06-.94-.94-2.06-.94 2.06-2.06.94z\"/><path d=\"M17.41 7.96l-1.37-1.37c-.4-.4-.92-.59-1.43-.59-.52 0-1.04.2-1.43.59L10.3 9.45l-7.72 7.72c-.78.78-.78 2.05 0 2.83L4 21.41c.39.39.9.59 1.41.59.51 0 1.02-.2 1.41-.59l7.78-7.78 2.81-2.81c.8-.78.8-2.07 0-2.86zM5.41 20L4 18.59l7.72-7.72 1.47 1.35L5.41 20z\"/>\n",
              "  </svg>\n",
              "      </button>\n",
              "      \n",
              "  <style>\n",
              "    .colab-df-container {\n",
              "      display:flex;\n",
              "      flex-wrap:wrap;\n",
              "      gap: 12px;\n",
              "    }\n",
              "\n",
              "    .colab-df-convert {\n",
              "      background-color: #E8F0FE;\n",
              "      border: none;\n",
              "      border-radius: 50%;\n",
              "      cursor: pointer;\n",
              "      display: none;\n",
              "      fill: #1967D2;\n",
              "      height: 32px;\n",
              "      padding: 0 0 0 0;\n",
              "      width: 32px;\n",
              "    }\n",
              "\n",
              "    .colab-df-convert:hover {\n",
              "      background-color: #E2EBFA;\n",
              "      box-shadow: 0px 1px 2px rgba(60, 64, 67, 0.3), 0px 1px 3px 1px rgba(60, 64, 67, 0.15);\n",
              "      fill: #174EA6;\n",
              "    }\n",
              "\n",
              "    [theme=dark] .colab-df-convert {\n",
              "      background-color: #3B4455;\n",
              "      fill: #D2E3FC;\n",
              "    }\n",
              "\n",
              "    [theme=dark] .colab-df-convert:hover {\n",
              "      background-color: #434B5C;\n",
              "      box-shadow: 0px 1px 3px 1px rgba(0, 0, 0, 0.15);\n",
              "      filter: drop-shadow(0px 1px 2px rgba(0, 0, 0, 0.3));\n",
              "      fill: #FFFFFF;\n",
              "    }\n",
              "  </style>\n",
              "\n",
              "      <script>\n",
              "        const buttonEl =\n",
              "          document.querySelector('#df-70c44e4e-ffe8-4210-808a-6f16ae4fd15f button.colab-df-convert');\n",
              "        buttonEl.style.display =\n",
              "          google.colab.kernel.accessAllowed ? 'block' : 'none';\n",
              "\n",
              "        async function convertToInteractive(key) {\n",
              "          const element = document.querySelector('#df-70c44e4e-ffe8-4210-808a-6f16ae4fd15f');\n",
              "          const dataTable =\n",
              "            await google.colab.kernel.invokeFunction('convertToInteractive',\n",
              "                                                     [key], {});\n",
              "          if (!dataTable) return;\n",
              "\n",
              "          const docLinkHtml = 'Like what you see? Visit the ' +\n",
              "            '<a target=\"_blank\" href=https://colab.research.google.com/notebooks/data_table.ipynb>data table notebook</a>'\n",
              "            + ' to learn more about interactive tables.';\n",
              "          element.innerHTML = '';\n",
              "          dataTable['output_type'] = 'display_data';\n",
              "          await google.colab.output.renderOutput(dataTable, element);\n",
              "          const docLink = document.createElement('div');\n",
              "          docLink.innerHTML = docLinkHtml;\n",
              "          element.appendChild(docLink);\n",
              "        }\n",
              "      </script>\n",
              "    </div>\n",
              "  </div>\n",
              "  "
            ]
          },
          "metadata": {},
          "execution_count": 12
        }
      ]
    },
    {
      "cell_type": "code",
      "source": [
        "# Визуализируем наши показатели:\n",
        "# ----------------------------------------------------------------------------\n",
        "# Visualize our indicators:\n",
        "\n",
        "platform_group.plot(kind='bar')\n",
        "plt.grid(axis='y')\n",
        "plt.title('Средняя оценка, выставляемая критиками,' '\\n'\n",
        "          'в зависимости от платформы приложения',\n",
        "          fontsize=16, fontweight='bold', pad=20)\n",
        "plt.xlabel('Платформа',fontsize=14, fontweight='bold')\n",
        "plt.ylabel('Средняя оценка', fontsize=14, fontweight='bold')\n",
        "plt.xticks(fontsize=12, fontweight='bold', rotation=0)\n",
        "plt.yticks(np.arange(0, 4.5, 0.5), fontsize=12)\n",
        "plt.show()"
      ],
      "metadata": {
        "colab": {
          "base_uri": "https://localhost:8080/",
          "height": 696
        },
        "id": "iAjsmdNI-0Wr",
        "outputId": "44cbdecc-6f10-4e54-c1cd-3c1f46a291df"
      },
      "execution_count": 15,
      "outputs": [
        {
          "output_type": "display_data",
          "data": {
            "text/plain": [
              "<Figure size 1100x700 with 1 Axes>"
            ],
            "image/png": "[encoded data removed]"
          },
          "metadata": {}
        }
      ]
    },
    {
      "cell_type": "markdown",
      "source": [
        "**Сформулируем наши гипотезы:**  \n",
        "**H0:** среднее значение оценки, выставляемой критиками  \n",
        "играм на PC платформе, равно средней оценке по играм на PS4 платформе.  \n",
        "**H1:** среднее значение оценки, выставляемой критиками  \n",
        "играм на PC платформе, отличается от средней оценки по играм на PS4 платформе.\n",
        "\n",
        "\n",
        "---\n",
        "**Let's formulate our hypotheses:**  \n",
        "**H0:** the average rating given by critics  \n",
        "to games on the PC platform is equal to the average rating for games on the PS4 platform.  \n",
        "**H1:** the average rating given by critics  \n",
        "to games on the PC platform differs from the average rating for games on the PS4 platform."
      ],
      "metadata": {
        "id": "ScaHjDcK_DR1"
      }
    },
    {
      "cell_type": "code",
      "source": [
        "# Проведем двухвыборочный T-тест. Сравним значение средней оценки, выставляемой\n",
        "# критиками играм на PC платформе, со средним значением выставляемой критиками\n",
        "# оценки по играм на PS4 платформе.\n",
        "# Примем пороговый уровень статистической значимости равный 0.05.\n",
        "# ----------------------------------------------------------------------------\n",
        "# Let's do a two-sample T-test. Let's compare the value of the average rating\n",
        "# given critically acclaimed games on the PC platform, with an average value\n",
        "# exposed by critics ratings for games on the PS4 platform.\n",
        "# Let's assume a threshold level of statistical significance equal to 0.05.\n",
        "\n",
        "stat, p_value = stats.ttest_ind(\n",
        "    (platform.loc[(df['Платформа'] == 'PC'), ['Средняя оценка']]),\n",
        "    (platform.loc[(df['Платформа'] == 'PS4'), ['Средняя оценка']]),\n",
        "    equal_var=False\n",
        "    )\n",
        "print('Статистика = %.2f, p_value = %.3f.' % (stat, p_value))\n",
        "\n",
        "if p_value > 0.05:\n",
        "    print('Не отклоняем нулевую гипотезу. Вероятно, выставляемая критиками '\n",
        "          'средняя оценка' '\\n' 'играм на PC платформе, равна средней оценке '\n",
        "          'по играм на PS4 платформе.')\n",
        "else:\n",
        "    print('Отклоняем нулевую гипотезу. Вероятно, среднее значение оценки, '\n",
        "          'выставляемой' '\\n' 'критиками играм на PC платформе, отличается '\n",
        "          'от средней оценки по играм' '\\n' 'на PS4 платформе.')"
      ],
      "metadata": {
        "colab": {
          "base_uri": "https://localhost:8080/"
        },
        "id": "mVKorrFt_MqH",
        "outputId": "5ba1bd38-197f-45fb-bd29-b50e7628dc41"
      },
      "execution_count": 16,
      "outputs": [
        {
          "output_type": "stream",
          "name": "stdout",
          "text": [
            "Статистика = 4.45, p_value = 0.000.\n",
            "Отклоняем нулевую гипотезу. Вероятно, среднее значение оценки, выставляемой\n",
            "критиками играм на PC платформе, отличается от средней оценки по играм\n",
            "на PS4 платформе.\n"
          ]
        }
      ]
    },
    {
      "cell_type": "markdown",
      "source": [
        "*Результаты теста говорят нам, что средняя оценка, выставляемая критиками играм  \n",
        "на PC платформе, отличается от средней оценки по играм на PS4 платформе. При этом  \n",
        "показатель t-статистики показывает, что средняя оценка по играм на PC платформе  \n",
        "выше, чем средняя оценка по играм на PS4 платформе.*\n",
        "\n",
        "\n",
        "---\n",
        "*The test results tell us that the average score given by critics to games  \n",
        "on the PC platform, it differs from the average rating for games on the PS4  \n",
        "platform. At the same time the t-statistics indicator shows that the average  \n",
        "score for games on the PC platform higher than the average score for games on  \n",
        "the PS4 platform.*"
      ],
      "metadata": {
        "id": "iyKDLUJl_nco"
      }
    },
    {
      "cell_type": "markdown",
      "source": [
        "###**Критикам больше нравятся стрелялки или стратегии?**\n",
        "\n",
        "\n",
        "---\n",
        "###**Do critics like shooting games or strategies more?**"
      ],
      "metadata": {
        "id": "HOF8Ap-u_8WY"
      }
    },
    {
      "cell_type": "code",
      "source": [
        "# Отфильтруем наш датасет по интересующим нас показателям:\n",
        "# ----------------------------------------------------------------------------\n",
        "# Let's filter our dataset by the indicators we are interested in:\n",
        "\n",
        "genre = (\n",
        "    df.loc[(df['Жанр'] == 'Shooter') | (df['Жанр'] == 'Strategy'),\n",
        "           ['Жанр', 'Средняя оценка']]\n",
        "           )\n",
        "genre.head()"
      ],
      "metadata": {
        "colab": {
          "base_uri": "https://localhost:8080/",
          "height": 206
        },
        "id": "GvbwLau1_kQI",
        "outputId": "e4dd597a-7b4d-43bc-a103-f13ebc36a294"
      },
      "execution_count": 17,
      "outputs": [
        {
          "output_type": "execute_result",
          "data": {
            "text/plain": [
              "       Жанр  Средняя оценка\n",
              "29  Shooter             1.1\n",
              "32  Shooter             1.0\n",
              "34  Shooter             4.0\n",
              "35  Shooter             1.1\n",
              "36  Shooter             0.9"
            ],
            "text/html": [
              "\n",
              "  <div id=\"df-f5eb1dcf-cd8f-43fe-aef4-40d37ecd9ce0\">\n",
              "    <div class=\"colab-df-container\">\n",
              "      <div>\n",
              "<style scoped>\n",
              "    .dataframe tbody tr th:only-of-type {\n",
              "        vertical-align: middle;\n",
              "    }\n",
              "\n",
              "    .dataframe tbody tr th {\n",
              "        vertical-align: top;\n",
              "    }\n",
              "\n",
              "    .dataframe thead th {\n",
              "        text-align: right;\n",
              "    }\n",
              "</style>\n",
              "<table border=\"1\" class=\"dataframe\">\n",
              "  <thead>\n",
              "    <tr style=\"text-align: right;\">\n",
              "      <th></th>\n",
              "      <th>Жанр</th>\n",
              "      <th>Средняя оценка</th>\n",
              "    </tr>\n",
              "  </thead>\n",
              "  <tbody>\n",
              "    <tr>\n",
              "      <th>29</th>\n",
              "      <td>Shooter</td>\n",
              "      <td>1.1</td>\n",
              "    </tr>\n",
              "    <tr>\n",
              "      <th>32</th>\n",
              "      <td>Shooter</td>\n",
              "      <td>1.0</td>\n",
              "    </tr>\n",
              "    <tr>\n",
              "      <th>34</th>\n",
              "      <td>Shooter</td>\n",
              "      <td>4.0</td>\n",
              "    </tr>\n",
              "    <tr>\n",
              "      <th>35</th>\n",
              "      <td>Shooter</td>\n",
              "      <td>1.1</td>\n",
              "    </tr>\n",
              "    <tr>\n",
              "      <th>36</th>\n",
              "      <td>Shooter</td>\n",
              "      <td>0.9</td>\n",
              "    </tr>\n",
              "  </tbody>\n",
              "</table>\n",
              "</div>\n",
              "      <button class=\"colab-df-convert\" onclick=\"convertToInteractive('df-f5eb1dcf-cd8f-43fe-aef4-40d37ecd9ce0')\"\n",
              "              title=\"Convert this dataframe to an interactive table.\"\n",
              "              style=\"display:none;\">\n",
              "        \n",
              "  <svg xmlns=\"http://www.w3.org/2000/svg\" height=\"24px\"viewBox=\"0 0 24 24\"\n",
              "       width=\"24px\">\n",
              "    <path d=\"M0 0h24v24H0V0z\" fill=\"none\"/>\n",
              "    <path d=\"M18.56 5.44l.94 2.06.94-2.06 2.06-.94-2.06-.94-.94-2.06-.94 2.06-2.06.94zm-11 1L8.5 8.5l.94-2.06 2.06-.94-2.06-.94L8.5 2.5l-.94 2.06-2.06.94zm10 10l.94 2.06.94-2.06 2.06-.94-2.06-.94-.94-2.06-.94 2.06-2.06.94z\"/><path d=\"M17.41 7.96l-1.37-1.37c-.4-.4-.92-.59-1.43-.59-.52 0-1.04.2-1.43.59L10.3 9.45l-7.72 7.72c-.78.78-.78 2.05 0 2.83L4 21.41c.39.39.9.59 1.41.59.51 0 1.02-.2 1.41-.59l7.78-7.78 2.81-2.81c.8-.78.8-2.07 0-2.86zM5.41 20L4 18.59l7.72-7.72 1.47 1.35L5.41 20z\"/>\n",
              "  </svg>\n",
              "      </button>\n",
              "      \n",
              "  <style>\n",
              "    .colab-df-container {\n",
              "      display:flex;\n",
              "      flex-wrap:wrap;\n",
              "      gap: 12px;\n",
              "    }\n",
              "\n",
              "    .colab-df-convert {\n",
              "      background-color: #E8F0FE;\n",
              "      border: none;\n",
              "      border-radius: 50%;\n",
              "      cursor: pointer;\n",
              "      display: none;\n",
              "      fill: #1967D2;\n",
              "      height: 32px;\n",
              "      padding: 0 0 0 0;\n",
              "      width: 32px;\n",
              "    }\n",
              "\n",
              "    .colab-df-convert:hover {\n",
              "      background-color: #E2EBFA;\n",
              "      box-shadow: 0px 1px 2px rgba(60, 64, 67, 0.3), 0px 1px 3px 1px rgba(60, 64, 67, 0.15);\n",
              "      fill: #174EA6;\n",
              "    }\n",
              "\n",
              "    [theme=dark] .colab-df-convert {\n",
              "      background-color: #3B4455;\n",
              "      fill: #D2E3FC;\n",
              "    }\n",
              "\n",
              "    [theme=dark] .colab-df-convert:hover {\n",
              "      background-color: #434B5C;\n",
              "      box-shadow: 0px 1px 3px 1px rgba(0, 0, 0, 0.15);\n",
              "      filter: drop-shadow(0px 1px 2px rgba(0, 0, 0, 0.3));\n",
              "      fill: #FFFFFF;\n",
              "    }\n",
              "  </style>\n",
              "\n",
              "      <script>\n",
              "        const buttonEl =\n",
              "          document.querySelector('#df-f5eb1dcf-cd8f-43fe-aef4-40d37ecd9ce0 button.colab-df-convert');\n",
              "        buttonEl.style.display =\n",
              "          google.colab.kernel.accessAllowed ? 'block' : 'none';\n",
              "\n",
              "        async function convertToInteractive(key) {\n",
              "          const element = document.querySelector('#df-f5eb1dcf-cd8f-43fe-aef4-40d37ecd9ce0');\n",
              "          const dataTable =\n",
              "            await google.colab.kernel.invokeFunction('convertToInteractive',\n",
              "                                                     [key], {});\n",
              "          if (!dataTable) return;\n",
              "\n",
              "          const docLinkHtml = 'Like what you see? Visit the ' +\n",
              "            '<a target=\"_blank\" href=https://colab.research.google.com/notebooks/data_table.ipynb>data table notebook</a>'\n",
              "            + ' to learn more about interactive tables.';\n",
              "          element.innerHTML = '';\n",
              "          dataTable['output_type'] = 'display_data';\n",
              "          await google.colab.output.renderOutput(dataTable, element);\n",
              "          const docLink = document.createElement('div');\n",
              "          docLink.innerHTML = docLinkHtml;\n",
              "          element.appendChild(docLink);\n",
              "        }\n",
              "      </script>\n",
              "    </div>\n",
              "  </div>\n",
              "  "
            ]
          },
          "metadata": {},
          "execution_count": 17
        }
      ]
    },
    {
      "cell_type": "code",
      "source": [
        "# Сгруппируем наши показатели по жанру и средней оценке:\n",
        "# -----------------------------------------------------------------------------\n",
        "# Let's group our indicators by genre and average rating:\n",
        "\n",
        "genre_group = genre[['Жанр', 'Средняя оценка']].groupby('Жанр').mean().round(1)\n",
        "genre_group.head()"
      ],
      "metadata": {
        "colab": {
          "base_uri": "https://localhost:8080/",
          "height": 143
        },
        "id": "7u5Jul6iAOav",
        "outputId": "215eca74-eaa5-40f8-d3aa-b7cdb8b4e64e"
      },
      "execution_count": 18,
      "outputs": [
        {
          "output_type": "execute_result",
          "data": {
            "text/plain": [
              "          Средняя оценка\n",
              "Жанр                    \n",
              "Shooter              3.0\n",
              "Strategy             3.9"
            ],
            "text/html": [
              "\n",
              "  <div id=\"df-cd8beef9-9431-4e75-87ed-7aa4ca7ea035\">\n",
              "    <div class=\"colab-df-container\">\n",
              "      <div>\n",
              "<style scoped>\n",
              "    .dataframe tbody tr th:only-of-type {\n",
              "        vertical-align: middle;\n",
              "    }\n",
              "\n",
              "    .dataframe tbody tr th {\n",
              "        vertical-align: top;\n",
              "    }\n",
              "\n",
              "    .dataframe thead th {\n",
              "        text-align: right;\n",
              "    }\n",
              "</style>\n",
              "<table border=\"1\" class=\"dataframe\">\n",
              "  <thead>\n",
              "    <tr style=\"text-align: right;\">\n",
              "      <th></th>\n",
              "      <th>Средняя оценка</th>\n",
              "    </tr>\n",
              "    <tr>\n",
              "      <th>Жанр</th>\n",
              "      <th></th>\n",
              "    </tr>\n",
              "  </thead>\n",
              "  <tbody>\n",
              "    <tr>\n",
              "      <th>Shooter</th>\n",
              "      <td>3.0</td>\n",
              "    </tr>\n",
              "    <tr>\n",
              "      <th>Strategy</th>\n",
              "      <td>3.9</td>\n",
              "    </tr>\n",
              "  </tbody>\n",
              "</table>\n",
              "</div>\n",
              "      <button class=\"colab-df-convert\" onclick=\"convertToInteractive('df-cd8beef9-9431-4e75-87ed-7aa4ca7ea035')\"\n",
              "              title=\"Convert this dataframe to an interactive table.\"\n",
              "              style=\"display:none;\">\n",
              "        \n",
              "  <svg xmlns=\"http://www.w3.org/2000/svg\" height=\"24px\"viewBox=\"0 0 24 24\"\n",
              "       width=\"24px\">\n",
              "    <path d=\"M0 0h24v24H0V0z\" fill=\"none\"/>\n",
              "    <path d=\"M18.56 5.44l.94 2.06.94-2.06 2.06-.94-2.06-.94-.94-2.06-.94 2.06-2.06.94zm-11 1L8.5 8.5l.94-2.06 2.06-.94-2.06-.94L8.5 2.5l-.94 2.06-2.06.94zm10 10l.94 2.06.94-2.06 2.06-.94-2.06-.94-.94-2.06-.94 2.06-2.06.94z\"/><path d=\"M17.41 7.96l-1.37-1.37c-.4-.4-.92-.59-1.43-.59-.52 0-1.04.2-1.43.59L10.3 9.45l-7.72 7.72c-.78.78-.78 2.05 0 2.83L4 21.41c.39.39.9.59 1.41.59.51 0 1.02-.2 1.41-.59l7.78-7.78 2.81-2.81c.8-.78.8-2.07 0-2.86zM5.41 20L4 18.59l7.72-7.72 1.47 1.35L5.41 20z\"/>\n",
              "  </svg>\n",
              "      </button>\n",
              "      \n",
              "  <style>\n",
              "    .colab-df-container {\n",
              "      display:flex;\n",
              "      flex-wrap:wrap;\n",
              "      gap: 12px;\n",
              "    }\n",
              "\n",
              "    .colab-df-convert {\n",
              "      background-color: #E8F0FE;\n",
              "      border: none;\n",
              "      border-radius: 50%;\n",
              "      cursor: pointer;\n",
              "      display: none;\n",
              "      fill: #1967D2;\n",
              "      height: 32px;\n",
              "      padding: 0 0 0 0;\n",
              "      width: 32px;\n",
              "    }\n",
              "\n",
              "    .colab-df-convert:hover {\n",
              "      background-color: #E2EBFA;\n",
              "      box-shadow: 0px 1px 2px rgba(60, 64, 67, 0.3), 0px 1px 3px 1px rgba(60, 64, 67, 0.15);\n",
              "      fill: #174EA6;\n",
              "    }\n",
              "\n",
              "    [theme=dark] .colab-df-convert {\n",
              "      background-color: #3B4455;\n",
              "      fill: #D2E3FC;\n",
              "    }\n",
              "\n",
              "    [theme=dark] .colab-df-convert:hover {\n",
              "      background-color: #434B5C;\n",
              "      box-shadow: 0px 1px 3px 1px rgba(0, 0, 0, 0.15);\n",
              "      filter: drop-shadow(0px 1px 2px rgba(0, 0, 0, 0.3));\n",
              "      fill: #FFFFFF;\n",
              "    }\n",
              "  </style>\n",
              "\n",
              "      <script>\n",
              "        const buttonEl =\n",
              "          document.querySelector('#df-cd8beef9-9431-4e75-87ed-7aa4ca7ea035 button.colab-df-convert');\n",
              "        buttonEl.style.display =\n",
              "          google.colab.kernel.accessAllowed ? 'block' : 'none';\n",
              "\n",
              "        async function convertToInteractive(key) {\n",
              "          const element = document.querySelector('#df-cd8beef9-9431-4e75-87ed-7aa4ca7ea035');\n",
              "          const dataTable =\n",
              "            await google.colab.kernel.invokeFunction('convertToInteractive',\n",
              "                                                     [key], {});\n",
              "          if (!dataTable) return;\n",
              "\n",
              "          const docLinkHtml = 'Like what you see? Visit the ' +\n",
              "            '<a target=\"_blank\" href=https://colab.research.google.com/notebooks/data_table.ipynb>data table notebook</a>'\n",
              "            + ' to learn more about interactive tables.';\n",
              "          element.innerHTML = '';\n",
              "          dataTable['output_type'] = 'display_data';\n",
              "          await google.colab.output.renderOutput(dataTable, element);\n",
              "          const docLink = document.createElement('div');\n",
              "          docLink.innerHTML = docLinkHtml;\n",
              "          element.appendChild(docLink);\n",
              "        }\n",
              "      </script>\n",
              "    </div>\n",
              "  </div>\n",
              "  "
            ]
          },
          "metadata": {},
          "execution_count": 18
        }
      ]
    },
    {
      "cell_type": "code",
      "source": [
        "# Визуализируем наши показатели:\n",
        "# ----------------------------------------------------------------------------\n",
        "# Visualize our indicators:\n",
        "\n",
        "genre_group.plot(kind='bar')\n",
        "plt.grid(axis='y')\n",
        "plt.title('Средняя оценка, выставляемая критиками,' '\\n'\n",
        "          'в зависимости от жанра приложения',\n",
        "          fontsize=16, fontweight='bold', pad=20)\n",
        "plt.xlabel('Жанр приложения',fontsize=14, fontweight='bold')\n",
        "plt.ylabel('Средняя оценка', fontsize=14, fontweight='bold')\n",
        "plt.xticks(fontsize=12, fontweight='bold', rotation=0)\n",
        "plt.yticks(np.arange(0, 4.0, 0.5), fontsize=12)\n",
        "plt.show()"
      ],
      "metadata": {
        "colab": {
          "base_uri": "https://localhost:8080/",
          "height": 695
        },
        "id": "h7fIYwtAAcI1",
        "outputId": "88afe618-3903-4e8f-e550-3dbac26255fc"
      },
      "execution_count": 19,
      "outputs": [
        {
          "output_type": "display_data",
          "data": {
            "text/plain": [
              "<Figure size 1100x700 with 1 Axes>"
            ],
            "image/png": "[encoded data removed]"
          },
          "metadata": {}
        }
      ]
    },
    {
      "cell_type": "markdown",
      "source": [
        "**Сформулируем наши гипотезы:**  \n",
        "**H0:** среднее значение оценки, выставляемой критиками  \n",
        "стрелялкам, равно средней оценке по стратегиям.  \n",
        "**H1:** среднее значение оценки, выставляемой критиками  \n",
        "стрелялкам, отличается от средней оценки по стратегиям.\n",
        "\n",
        "\n",
        "---\n",
        "**Let's formulate our hypotheses:**  \n",
        "**H0:** the average score given by critics  \n",
        "to shooting games is equal to the average score for strategies.  \n",
        "**H1:** the average score given by critics  \n",
        "to shooting games differs from the average score for strategies."
      ],
      "metadata": {
        "id": "ZvxORi5SApTG"
      }
    },
    {
      "cell_type": "code",
      "source": [
        "# Проведем двухвыборочный T-тест. Сравним значение средней оценки, выставляемой\n",
        "# критиками стрелялкам, со средним значением выставляемой критиками оценки по\n",
        "# стратегиям.\n",
        "# Примем пороговый уровень статистической значимости равный 0.05.\n",
        "# ----------------------------------------------------------------------------\n",
        "# Let's do a two-sample T-test. Let's compare the value of the average rating\n",
        "# given critically acclaimed shooting games, with the average value of the\n",
        "# critically acclaimed score on strategies.\n",
        "# Let's assume a threshold level of statistical significance equal to 0.05.\n",
        "\n",
        "stat, p_value = stats.ttest_ind(\n",
        "    (genre.loc[(genre['Жанр'] == 'Shooter'), ['Средняя оценка']]),\n",
        "    (genre.loc[(genre['Жанр'] == 'Strategy'), ['Средняя оценка']]),\n",
        "    equal_var=False\n",
        "    )\n",
        "print('Статистика = %.2f, p_value = %.3f.' % (stat, p_value))\n",
        "\n",
        "if p_value > 0.05:\n",
        "    print('Не отклоняем нулевую гипотезу. Вероятно, выставляемая критиками '\n",
        "          'средняя оценка' '\\n' 'стрелялкам, равна средней оценке по '\n",
        "          'стратегиям.')\n",
        "else:\n",
        "    print('Отклоняем нулевую гипотезу. Вероятно, среднее значение оценки, '\n",
        "          'выставляемой' '\\n' 'критиками стрелялкам, отличается от средней '\n",
        "          'оценки по стратегиям.')"
      ],
      "metadata": {
        "colab": {
          "base_uri": "https://localhost:8080/"
        },
        "id": "h25QiFH3AxAn",
        "outputId": "39502d10-540f-4b33-e832-a1f9c2e36ad3"
      },
      "execution_count": 20,
      "outputs": [
        {
          "output_type": "stream",
          "name": "stdout",
          "text": [
            "Статистика = -4.72, p_value = 0.000.\n",
            "Отклоняем нулевую гипотезу. Вероятно, среднее значение оценки, выставляемой\n",
            "критиками стрелялкам, отличается от средней оценки по стратегиям.\n"
          ]
        }
      ]
    },
    {
      "cell_type": "markdown",
      "source": [
        "*Результаты теста говорят нам, что средняя оценка, выставляемая критиками стрелялкам,  \n",
        "отличается от средней оценки по стратегиям. При этом показатель t-статистики показывает,  \n",
        "что средняя оценка по стрелялкам ниже, чем средняя оценка по стратегиям.*\n",
        "\n",
        "\n",
        "---\n",
        "*The test results tell us that the average score given by critics to shooting  \n",
        "games differs from the average score for strategies. At the same time, the t-statistics indicator  \n",
        "shows, that the average score for shooting games is lower than the average score for strategies.*"
      ],
      "metadata": {
        "id": "ndSizwOWBGUb"
      }
    }
  ]
}